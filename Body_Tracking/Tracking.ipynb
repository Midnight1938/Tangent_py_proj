{
 "cells": [
  {
   "cell_type": "markdown",
   "source": [
    "# Holistic Body Tracking with MediaPipe"
   ],
   "metadata": {}
  },
  {
   "cell_type": "code",
   "execution_count": 1,
   "source": [
    "import mediapipe as mp\n",
    "import cv2"
   ],
   "outputs": [],
   "metadata": {}
  },
  {
   "cell_type": "markdown",
   "source": [
    "## Setting up drawing utility and holistic Model"
   ],
   "metadata": {}
  },
  {
   "cell_type": "code",
   "execution_count": 2,
   "source": [
    "mpDraw = mp.solutions.drawing_utils\n",
    "mpHolistic = mp.solutions.holistic"
   ],
   "outputs": [],
   "metadata": {}
  },
  {
   "cell_type": "markdown",
   "source": [
    "### Webcam Feed\n",
    "\n",
    "\n",
    "- Get the capture device, `0` is usually default\n",
    "- While its open, read the feed from the cam, and render the reading with `imshow`\n",
    "- If we press `q` Close the webcam\n",
    "    - Release Cam capture, and destroy the capturing"
   ],
   "metadata": {}
  },
  {
   "cell_type": "code",
   "execution_count": 6,
   "source": [
    "#Cam = cv2.VideoCapture(0)\n",
    "#while Cam.isOpened():\n",
    "#    ret, frame = Cam.read()\n",
    "#    cv2.imshow(\"Holistic Detection\", frame)\n",
    "#    \n",
    "#    if cv2.waitKey(10) & 0xFF == ord(\"q\"):\n",
    "#        break\n",
    "#\n",
    "#Cam.release()\n",
    "#cv2.destroyAllWindows()"
   ],
   "outputs": [],
   "metadata": {}
  },
  {
   "cell_type": "markdown",
   "source": [
    "## Overlaying Holistic on the Camera Feed\n",
    "\n",
    "- Initiate Model\n",
    "  - Recolour Feed with `cv2.cvtcolor`\n",
    "  - Detect with `holistic.process`"
   ],
   "metadata": {}
  },
  {
   "cell_type": "code",
   "execution_count": 12,
   "source": [
    "Cam = cv2.VideoCapture(0)\n",
    "with mpHolistic.Holistic(min_detection_confidence=0.5, min_tracking_confidence=0.5) as Holisticc: ##? Initiate Model\n",
    "    while Cam.isOpened():\n",
    "        ret, frame = Cam.read()\n",
    "\n",
    "        Image = cv2.flip(cv2.cvtColor(frame, cv2.COLOR_BGR2RGB),1) #? Recolor Feed\n",
    "        Results = Holisticc.process(Image) #? Process Feed\n",
    "        ## print(Results.pose_landmarks) Print Dot Coordinates\n",
    "\n",
    "        Image = cv2.flip(cv2.cvtColor(frame, cv2.COLOR_RGB2BGR), 1) #? Recolour Back to BGR to Render\n",
    "        PosingUp() #? Draw Landmarks\n",
    "\n",
    "        cv2.imshow(\"Raw Feed\", Image)\n",
    "        if cv2.waitKey(10) & 0xFF == ord(\"q\"):\n",
    "            break\n",
    "\n",
    "Cam.release()\n",
    "cv2.destroyAllWindows()"
   ],
   "outputs": [],
   "metadata": {}
  },
  {
   "cell_type": "code",
   "execution_count": 9,
   "source": [
    "def PosingUp():\n",
    "    #* Face\n",
    "    faceDots= mpDraw.DrawingSpec(color=(255,255,0), thickness=1, circle_radius=1)\n",
    "    faceLines= mpDraw.DrawingSpec(color=(255,0,255), thickness=2, circle_radius=1)\n",
    "    mpDraw.draw_landmarks(Image, Results.face_landmarks, mpHolistic.FACE_CONNECTIONS, faceDots, faceLines)\n",
    "    \n",
    "    #* Right hand\n",
    "    rightDots= mpDraw.DrawingSpec(color=(255,255,0), thickness=1, circle_radius=1)\n",
    "    rightLines= mpDraw.DrawingSpec(color=(255,0,255), thickness=2, circle_radius=1)\n",
    "    mpDraw.draw_landmarks(Image, Results.right_hand_landmarks, mpHolistic.HAND_CONNECTIONS, rightDots, rightLines)\n",
    "\n",
    "    #* Left hand\n",
    "    leftDots= mpDraw.DrawingSpec(color=(255,255,0), thickness=1, circle_radius=1)\n",
    "    leftLines= mpDraw.DrawingSpec(color=(255,0,255), thickness=2, circle_radius=1)\n",
    "    mpDraw.draw_landmarks(Image, Results.left_hand_landmarks, mpHolistic.HAND_CONNECTIONS, leftDots, leftLines)\n",
    "\n",
    "    #* Pose\n",
    "    poseDots= mpDraw.DrawingSpec(color=(255,255,0), thickness=1, circle_radius=1)\n",
    "    poseLines= mpDraw.DrawingSpec(color=(255,0,255), thickness=1, circle_radius=1)\n",
    "    mpDraw.draw_landmarks(Image, Results.pose_landmarks, mpHolistic.POSE_CONNECTIONS, poseDots, poseLines)"
   ],
   "outputs": [],
   "metadata": {}
  },
  {
   "cell_type": "code",
   "execution_count": 7,
   "source": [
    "\n",
    "Cam.release()\n",
    "cv2.destroyAllWindows()"
   ],
   "outputs": [],
   "metadata": {}
  }
 ],
 "metadata": {
  "orig_nbformat": 4,
  "language_info": {
   "name": "python",
   "version": "3.9.5",
   "mimetype": "text/x-python",
   "codemirror_mode": {
    "name": "ipython",
    "version": 3
   },
   "pygments_lexer": "ipython3",
   "nbconvert_exporter": "python",
   "file_extension": ".py"
  },
  "kernelspec": {
   "name": "python3",
   "display_name": "Python 3.9.5 64-bit ('AI_ML': conda)"
  },
  "interpreter": {
   "hash": "9cb43bf80f2c1741fbf1b93272e2f74bb57e3142b7262ae3900f068d6b1305db"
  }
 },
 "nbformat": 4,
 "nbformat_minor": 2
}