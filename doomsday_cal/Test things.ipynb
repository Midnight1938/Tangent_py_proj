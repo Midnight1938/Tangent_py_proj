{
 "metadata": {
  "language_info": {
   "codemirror_mode": {
    "name": "ipython",
    "version": 3
   },
   "file_extension": ".py",
   "mimetype": "text/x-python",
   "name": "python",
   "nbconvert_exporter": "python",
   "pygments_lexer": "ipython3",
   "version": "3.8.6-final"
  },
  "orig_nbformat": 2,
  "kernelspec": {
   "name": "python3",
   "display_name": "Python 3",
   "language": "python"
  }
 },
 "nbformat": 4,
 "nbformat_minor": 2,
 "cells": [
  {
   "source": [
    "## Dicts"
   ],
   "cell_type": "markdown",
   "metadata": {}
  },
  {
   "cell_type": "code",
   "execution_count": 103,
   "metadata": {},
   "outputs": [],
   "source": [
    "import pyfiglet\n",
    "\n",
    "dict_day ={ 0 : \"Sunday\",\n",
    "            1 : \"Monday\",\n",
    "            2 : \"Tuesday\",\n",
    "            3 : \"Wednesday\",\n",
    "            4 : \"Thursday\",\n",
    "            5 : \"Friday\",\n",
    "            6 : \"Saturday\" } \n",
    "\n",
    "Month_decision = {1 : 3,\n",
    "                  1.1 : 4, # ? Leap Years\n",
    "                  2 : 28,\n",
    "                  2.2 : 29, # ? Leap Years\n",
    "                  3 : 7,\n",
    "                  4 : 4,\n",
    "                  5 : 9,\n",
    "                  6 : 6,\n",
    "                  7 : 11,\n",
    "                  8 : 8,\n",
    "                  9 : 5,\n",
    "                  10 : 10,\n",
    "                  11 : 7,\n",
    "                  12 : 12}"
   ]
  },
  {
   "source": [
    "## Inputs"
   ],
   "cell_type": "markdown",
   "metadata": {}
  },
  {
   "cell_type": "code",
   "execution_count": 104,
   "metadata": {},
   "outputs": [],
   "source": [
    "Inputer = \"14/02/2021\"\n",
    "Spliter = Inputer.split('/', 2)\n",
    "\n",
    "Day = int(Spliter[0])\n",
    "Month = int(Spliter[1])\n",
    "Year = int(Spliter[2])"
   ]
  },
  {
   "source": [
    "## Dooms DAY"
   ],
   "cell_type": "markdown",
   "metadata": {}
  },
  {
   "cell_type": "code",
   "execution_count": 105,
   "metadata": {},
   "outputs": [
    {
     "output_type": "stream",
     "name": "stdout",
     "text": [
      "\n Doomsday in the year 2021 is a Sunday\n"
     ]
    }
   ],
   "source": [
    "##**###################**##\n",
    "# !! Calc the Doomsday !! #\n",
    "##**###################**##\n",
    "def dooms_day(Year):\n",
    "     \n",
    "     \n",
    "    ## gregorian calender repeats every 400 years ##\n",
    "    k = Year % 400\n",
    "    ## decide the anchor day ##\n",
    "    if(k >= 0 and k < 100):\n",
    "        anchor = 2\n",
    "    elif(k >= 100 and k < 200):\n",
    "        anchor = 0\n",
    "    elif(k >= 200 and k < 300):\n",
    "        anchor = 5\n",
    "    else:\n",
    "        anchor = 3\n",
    "    y = Year % 100\n",
    "     \n",
    "    # dooms day formula by Conway: [y//12] + y mod 12 + ([y mod 12)//4]) mod 7 + anchor\n",
    "    ## ! Anchor day changes after 100 years and repeats after every 400 years in the following way –\n",
    "    ## 0-99 yrs --> Tuesday\n",
    "    ## 100-199 yrs --> Sunday\n",
    "    ## 200-299 yrs --> Friday\n",
    "    ## 300-399 yr --> Wednesday\n",
    "    doomsday = ((y//12 + y % 12 + (y % 12)//4)% 7 + anchor) % 7     \n",
    "    return dict_day[doomsday]\n",
    "\n",
    "Doom_Day = dooms_day(Year)\n",
    "\n",
    "print('\\n', \"Doomsday in the year % s is a % s\"%(Year, Doom_Day))"
   ]
  },
  {
   "source": [
    "## Additional Calc"
   ],
   "cell_type": "markdown",
   "metadata": {}
  },
  {
   "cell_type": "code",
   "execution_count": 106,
   "metadata": {},
   "outputs": [
    {
     "output_type": "stream",
     "name": "stdout",
     "text": [
      "2021 is Not a Leap Year, no changes made\n"
     ]
    }
   ],
   "source": [
    "## !! How many times does the number 12 fit as a whole into the two last digits of the year number?\n",
    "Year_Part = Spliter[2]\n",
    "End_Digit = int(Year_Part[len(Year_Part)//2:]) ## ** 21 ** ##\n",
    "\n",
    "Fit_12inNd = End_Digit//12 ## ** 1 ** ##\n",
    "\n",
    "## !! What is the difference between the two last digits of the year number and the product of the multiples of 12 from calculation 1?\n",
    "Diff_Num = End_Digit - (12*Fit_12inNd) ## ** 21-12 = 9 **  ##\n",
    "\n",
    "## !! How many times does the number 4 fit into the result of calculation 2?\n",
    "Fit_4 = Diff_Num//4 ## ** 2  ** ##\n",
    "\n",
    "## !! What is the day in anchor for the month?\n",
    "if (( Year%400 == 0)or (( Year%4 == 0 ) and ( Year%100 != 0))):\n",
    "    print(\"%d is a Leap Year, changes made accordingly\" %Year)\n",
    "    if Month == 1:\n",
    "        Month == 1.1\n",
    "    elif Month == 2:\n",
    "        Month == 2.1\n",
    "\n",
    "else:\n",
    "    print(\"%d is Not a Leap Year, no changes made\" %Year)\n",
    "\n",
    "####### Anchor = Anchor_day[Doom_Day]\n",
    "####### print(' And the anchor for month {0} is {1} of that month'.format(Month), Anchor)"
   ]
  },
  {
   "source": [
    "## Finding the day"
   ],
   "cell_type": "markdown",
   "metadata": {}
  },
  {
   "cell_type": "code",
   "execution_count": 109,
   "metadata": {},
   "outputs": [
    {
     "output_type": "stream",
     "name": "stdout",
     "text": [
      " _ _  _     _____ ____     ______   ___ ____  _   _             \n/ | || |   / / _ \\___ \\   / /___ \\ / _ \\___ \\/ | (_)___    __ _ \n| | || |_ / / | | |__) | / /  __) | | | |__) | | | / __|  / _` |\n| |__   _/ /| |_| / __/ / /  / __/| |_| / __/| | | \\__ \\ | (_| |\n|_|  |_|/_/  \\___/_____/_/  |_____|\\___/_____|_| |_|___/  \\__,_|\n                                                                \n ____                  _             \n/ ___| _   _ _ __   __| | __ _ _   _ \n\\___ \\| | | | '_ \\ / _` |/ _` | | | |\n ___) | |_| | | | | (_| | (_| | |_| |\n|____/ \\__,_|_| |_|\\__,_|\\__,_|\\__, |\n                               |___/ \n\nNone\n"
     ]
    }
   ],
   "source": [
    "def get_key(val):\n",
    "    for key, value in dict_day.items():\n",
    "         if val == value:\n",
    "             return key \n",
    "    return \"key doesn't exist\"\n",
    "\n",
    "LevelMonth = Month_decision[Month]\n",
    "LevelAnchor = get_key(Doom_Day)\n",
    "\n",
    "while LevelMonth != Day:\n",
    "    if Day >= LevelMonth:\n",
    "        LevelMonth += 1\n",
    "        LevelAnchor += 1\n",
    "    elif Day <= LevelMonth:\n",
    "        LevelMonth -= 1\n",
    "        LevelAnchor -= 1\n",
    "\n",
    "while LevelAnchor < 0:\n",
    "    LevelAnchor += 7\n",
    "while abs(LevelAnchor) > 6:\n",
    "    LevelAnchor -= 7\n",
    "Final = dict_day[LevelAnchor]\n",
    "print(pyfiglet.print_figlet('{0} is a {1}'.format(Inputer, Final)))"
   ]
  },
  {
   "cell_type": "code",
   "execution_count": 108,
   "metadata": {
    "tags": []
   },
   "outputs": [],
   "source": [
    "# Day = 14\n",
    "# Month = 01\n",
    "# Year = 2021\n",
    "\n",
    "### ascii_art = pyfiglet.print_figlet('{0} is a {1}'.format(Inputer, Final))\n",
    "### print(ascii_art)"
   ]
  },
  {
   "cell_type": "code",
   "execution_count": null,
   "metadata": {},
   "outputs": [],
   "source": []
  }
 ]
}