{
 "metadata": {
  "language_info": {
   "codemirror_mode": {
    "name": "ipython",
    "version": 3
   },
   "file_extension": ".py",
   "mimetype": "text/x-python",
   "name": "python",
   "nbconvert_exporter": "python",
   "pygments_lexer": "ipython3",
   "version": "3.8.6-final"
  },
  "orig_nbformat": 2,
  "kernelspec": {
   "name": "python3",
   "display_name": "Python 3",
   "language": "python"
  }
 },
 "nbformat": 4,
 "nbformat_minor": 2,
 "cells": [
  {
   "source": [
    "# Thing in this page:\n",
    "\n",
    "- Doomsday of year\n",
    "- Doomsday_Cal.py but with Modules\n",
    "\n",
    "## Anchor Days:\n",
    "- ### January, the date varies: 3 in a common and 4 in a leap.\n",
    "- ### February: Its last day (February 28 in a common year, February 29 in a leap year)\n",
    "- ### March 7\n",
    "- ### April 4 (or 4/4)\n",
    "- ### May 9 (or 5/9)\n",
    "- ### June 6 (or 6/6)\n",
    "- ### July 11 (or 7/11)\n",
    "- ### August 8 (or 8/8)\n",
    "- ### September 5 (or 9/5)\n",
    "- ### October 10 (or 10/10)\n",
    "- ### November 7 (or 11/7)\n",
    "- ### December 12 (or 12/12)"
   ],
   "cell_type": "markdown",
   "metadata": {}
  },
  {
   "source": [
    "## Doomsday Of Year Check"
   ],
   "cell_type": "markdown",
   "metadata": {}
  },
  {
   "cell_type": "code",
   "execution_count": 2,
   "metadata": {},
   "outputs": [
    {
     "output_type": "stream",
     "name": "stdout",
     "text": [
      "Doomsday in the year 1978 = Tuesday\n"
     ]
    }
   ],
   "source": [
    "\n",
    "def dooms_day(year):\n",
    "     \n",
    "    ## dictionary to store days ##\n",
    "    ## value of anchor day can be known ##\n",
    "    dict_day ={ 0 : \"Sunday\",\n",
    "               1 : \"Monday\",\n",
    "               2 : \"Tuesday\",\n",
    "               3 : \"Wednesday\",\n",
    "               4 : \"Thursday\",\n",
    "               5 : \"Friday\",\n",
    "               6 : \"Saturday\" } \n",
    "     \n",
    "    ## gregorian calender repeats every 400 years ##\n",
    "    k = year % 400\n",
    "     \n",
    "    ## decide the anchor day ##\n",
    "    if(k >= 0 and k < 100):\n",
    "        anchor = 2\n",
    "         \n",
    "    elif(k >= 100 and k < 200):\n",
    "        anchor = 0\n",
    "         \n",
    "    elif(k >= 200 and k < 300):\n",
    "        anchor = 5\n",
    "         \n",
    "    else:\n",
    "        anchor = 3\n",
    "         \n",
    "    y = year % 100\n",
    "     \n",
    "# dooms day formula by Conway: [y//12] + y mod 12 + ([y mod 12)//4]) mod 7 + anchor\n",
    "## ! Anchor day changes after 100 years and repeats after every 400 years in the following way –\n",
    "    ## 0-99 yrs --> Tuesday\n",
    "    ## 100-199 yrs --> Sunday\n",
    "    ## 200-299 yrs --> Friday\n",
    "    ## 300-399 yr --> Wednesday\n",
    "\n",
    "\n",
    "    doomsday = ((y//12 + y % 12 + (y % 12)//4)% 7 + anchor) % 7\n",
    "     \n",
    "    return dict_day[doomsday]\n",
    " \n",
    "# Driver code\n",
    "year = int(input(\"Enter Year: \"))\n",
    "print(\"Doomsday in the year % s = % s\"%(year, \n",
    "                                        dooms_day(year)))\n"
   ]
  },
  {
   "source": [
    "## With modules"
   ],
   "cell_type": "markdown",
   "metadata": {}
  },
  {
   "cell_type": "code",
   "execution_count": 1,
   "metadata": {},
   "outputs": [
    {
     "output_type": "stream",
     "name": "stdout",
     "text": [
      "The Weekday for a Given date(09-02-2020) is Sunday\n"
     ]
    }
   ],
   "source": [
    "# Import Module\n",
    "import datetime\n",
    "\n",
    "# Take the Input From the User\n",
    "date=str(input('Enter the date(for e.g.:09-02-2020): '))\n",
    "\n",
    "# Day Name List\n",
    "day_name= ['Monday', 'Tuesday', 'Wednesday', 'Thursday', 'Friday', 'Saturday','Sunday']\n",
    "\n",
    "day = datetime.datetime.strptime(date, '%d-%m-%Y').weekday()\n",
    "\n",
    "# Print the Day\n",
    "print(\"The Weekday for a Given date({0}) is {1}\".format(date,day_name[day]))"
   ]
  }
 ]
}