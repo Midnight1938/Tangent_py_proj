{
  "nbformat": 4,
  "nbformat_minor": 2,
  "metadata": {
    "colab": {
      "name": "Flipkart_Price_Chk.ipynb",
      "provenance": []
    },
    "kernelspec": {
      "name": "python3",
      "display_name": "Python 3"
    },
    "language_info": {
      "name": "python"
    }
  },
  "cells": [
    {
      "cell_type": "markdown",
      "source": [
        "## Imports"
      ],
      "metadata": {
        "id": "q_6TpwO8PWR_"
      }
    },
    {
      "cell_type": "code",
      "execution_count": 202,
      "source": [
        "import requests, smtplib, time, urllib\n",
        "from bs4 import BeautifulSoup"
      ],
      "outputs": [],
      "metadata": {
        "id": "9oo5QxI6OzoF"
      }
    },
    {
      "cell_type": "markdown",
      "source": [
        "## UserAgent and URL"
      ],
      "metadata": {
        "id": "tleKBbgdPnLJ"
      }
    },
    {
      "cell_type": "code",
      "execution_count": 1,
      "source": [
        "Head = 'Mozilla/5.0 (X11; Fedora; Linux x86_64; rv:89.0) Gecko/20100101 Firefox/89.0'\n",
        "\n",
        "HEADER = { 'User-Agent': Head}\n",
        "#URL = str(input(\"Enter URL: \"))\n",
        "URL = 'https://www.flipkart.com/adidas-solid-men-round-neck-white-t-shirt/p/itmfefdzn3f7w8e7?pid=TSHFEFDNDHQT7BYA&lid=LSTTSHFEFDNDHQT7BYATVVBA7&marketplace=FLIPKART&sattr[]=color&st=color'\n",
        "Price_Expecc = 800"
      ],
      "outputs": [],
      "metadata": {
        "colab": {
          "base_uri": "https://localhost:8080/"
        },
        "id": "ZT5oVkqCPBb7",
        "outputId": "ba31c846-ce37-4a7d-daa7-5fc7f63dffce"
      }
    },
    {
      "cell_type": "markdown",
      "source": [
        "##URL Shortening"
      ],
      "metadata": {
        "id": "X8eatDRf4F0c"
      }
    },
    {
      "cell_type": "code",
      "execution_count": 204,
      "source": [
        "def URL_Short(Ze_URL):\n",
        "  key = '4423d86605cc556762e0229b8254d1d9004f5'\n",
        "  url = urllib.parse.quote(Ze_URL)\n",
        "\n",
        "  api_call = ('http://cutt.ly/api/api.php?key={}&short={}'.format(key, url))\n",
        "  data = requests.get(api_call).json()[\"url\"]\n",
        "  if data[\"status\"] == 7:\n",
        "      #get shortened URL\n",
        "      return data[\"shortLink\"]\n",
        "  else:\n",
        "      print(\"[!] Error Shortening URL:\", data)\n",
        "      return Ze_URL"
      ],
      "outputs": [],
      "metadata": {
        "id": "jcTS2Lxg4I8a"
      }
    },
    {
      "cell_type": "markdown",
      "source": [
        "## Parse Price"
      ],
      "metadata": {
        "id": "KBW0DcPhauRV"
      }
    },
    {
      "cell_type": "code",
      "execution_count": 205,
      "source": [
        "page = requests.get(URL, headers=HEADER)\n",
        "suup = BeautifulSoup(page.content, 'html.parser')\n",
        "title = str(suup.find(\"span\", {\"class\":\"B_NuCI\"}).get_text())[:10].strip()\n",
        "price = float(suup.find(\"div\", {\"class\":\"_30jeq3 _16Jk6d\"}).get_text()[1:].replace(',',''))\n",
        "\n",
        "def check_price():  \n",
        "  if( price < Price_Expecc):\n",
        "    Send_Mail()"
      ],
      "outputs": [
        {
          "output_type": "stream",
          "name": "stdout",
          "text": [
            "MANFORCE M\n"
          ]
        }
      ],
      "metadata": {
        "colab": {
          "base_uri": "https://localhost:8080/"
        },
        "id": "hcl2laKoVCes",
        "outputId": "f4f3ec11-bb4b-496d-d7f3-bb65a0999e64"
      }
    },
    {
      "cell_type": "markdown",
      "source": [
        "## Emailing"
      ],
      "metadata": {
        "id": "mdObSyxXa72G"
      }
    },
    {
      "cell_type": "code",
      "execution_count": 206,
      "source": [
        "def Send_Mail():\n",
        "  server = smtplib.SMTP(\"smtp.gmail.com\", 587)\n",
        "  server.ehlo()     # servers identify the client\n",
        "  server.starttls() # start an SMTP connection in TLS\n",
        "  server.ehlo()     # re-send\n",
        "  ## Generate app password on Gmail (\"Email\", \"App Password\")\n",
        "  server.login('eminate894567@gmail.com', \"mnlcctzfhsmpeknb\")\n",
        "  ## EMAILS\n",
        "  FROM = \"eminate894567@gmail.com\"\n",
        "  TO = \"naresh@tatanagar.com\"\n",
        "  ## BODY of mail\n",
        "  Subj = ('Price of {} was {} and is {}'.format(title, price, Price_Expecc))\n",
        "  Txt = ('Check the link: '+ URL_Short(URL))\n",
        "  \n",
        "  Body = f\"Subject: {Subj}\\n\\n{Txt}\"\n",
        "\n",
        "  ## Sending Mail\n",
        "  server.sendmail(FROM , TO , Body)\n",
        "  server.quit()"
      ],
      "outputs": [],
      "metadata": {
        "id": "E2b1ZSZGVpqZ"
      }
    },
    {
      "cell_type": "markdown",
      "source": [
        "# Running every hour"
      ],
      "metadata": {
        "id": "AkIgJJCMfqbe"
      }
    },
    {
      "cell_type": "code",
      "execution_count": 207,
      "source": [
        "while(True):\n",
        "    check_price()\n",
        "    time.sleep(60*60)"
      ],
      "outputs": [
        {
          "output_type": "stream",
          "name": "stdout",
          "text": [
            "Email Sent\n",
            "Subject: Price of MANFORCE M is below 300\n",
            "\n",
            "Check the link: https://cutt.ly/HmOC9kN\n"
          ]
        }
      ],
      "metadata": {
        "colab": {
          "base_uri": "https://localhost:8080/"
        },
        "id": "OQJSASRNfvO5",
        "outputId": "7f865bf7-b75b-4070-864e-38210e71ed8b"
      }
    }
  ]
}