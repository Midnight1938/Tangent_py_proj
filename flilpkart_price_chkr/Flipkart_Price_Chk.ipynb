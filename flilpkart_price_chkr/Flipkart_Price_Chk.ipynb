{
  "cells": [
    {
      "cell_type": "markdown",
      "metadata": {
        "id": "q_6TpwO8PWR_"
      },
      "source": [
        "## Imports"
      ]
    },
    {
      "cell_type": "code",
      "execution_count": 2,
      "metadata": {
        "id": "9oo5QxI6OzoF"
      },
      "outputs": [],
      "source": [
        "import requests, smtplib, time, urllib\n",
        "from bs4 import BeautifulSoup"
      ]
    },
    {
      "cell_type": "markdown",
      "metadata": {
        "id": "tleKBbgdPnLJ"
      },
      "source": [
        "## UserAgent and URL"
      ]
    },
    {
      "cell_type": "code",
      "execution_count": 23,
      "metadata": {
        "colab": {
          "base_uri": "https://localhost:8080/"
        },
        "id": "ZT5oVkqCPBb7",
        "outputId": "ba31c846-ce37-4a7d-daa7-5fc7f63dffce"
      },
      "outputs": [],
      "source": [
        "HEADER = ({'User-Agent': 'Mozilla/5.0 (X11; Linux x86_64) AppleWebKit/537.36 (KHTML, like Gecko) Chrome/44.0.2403.157 Safari/537.36',\n",
        "            'Accept-Language': 'en-IN, en;q=0.5'})\n",
        "#URL = str(input(\"Enter URL: \"))\n",
        "URL = 'https://www.amazon.in/Fitbit-Inspire-Fitness-Tracker-Included/dp/B08DFDP1TR/ref=sr_1_3?crid=NY6W4G2AWLAH&dib=eyJ2IjoiMSJ9.dS0h79MjZ_7zG59cTpgYaxC3767Pw_PYTGDQ2lFDBounUW4tONFxVLWS5lnZPBaZahH0JGEp9su7O5I5JdWgvKeSFeUMT_si3hg3W0N9s6ACqaGwKkhrI2nlEj8NL6Yv4NBC4PEiVnmKD8FyFrJA90f7azOq05aeRaZu8MilQ6aNLtZS134rNbtr2rfBIXFFGYuztgw8NQKSteQ7-x296LFClhu_WIz76d0tTcIJkeFEl9fxt23JzyQjlZJ0uGa4AvXQ_qRMlAYze6IYhA3VewWuc2VRPDsmK0ML4xvcpJI.dkzQOqN3kUqYoDDOZ4rdQldDUfwb5hUbzv2w1gsUSw8&dib_tag=se&keywords=fitbit+inspire+2&nsdOptOutParam=true&qid=1726044092&sprefix=fitbit+insp%2Caps%2C239&sr=8-3'\n",
        "Price_Expecc = 800"
      ]
    },
    {
      "cell_type": "markdown",
      "metadata": {
        "id": "X8eatDRf4F0c"
      },
      "source": [
        "##URL Shortening"
      ]
    },
    {
      "cell_type": "code",
      "execution_count": 8,
      "metadata": {
        "id": "jcTS2Lxg4I8a"
      },
      "outputs": [],
      "source": [
        "def URL_Short(Ze_URL):\n",
        "  key = '4423d86605cc556762e0229b8254d1d9004f5'\n",
        "  url = urllib.parse.quote(Ze_URL)\n",
        "\n",
        "  api_call = ('http://cutt.ly/api/api.php?key={}&short={}'.format(key, url))\n",
        "  data = requests.get(api_call).json()[\"url\"]\n",
        "  if data[\"status\"] == 7:\n",
        "      #get shortened URL\n",
        "      return data[\"shortLink\"]\n",
        "  else:\n",
        "      print(\"[!] Error Shortening URL:\", data)\n",
        "      return Ze_URL"
      ]
    },
    {
      "cell_type": "markdown",
      "metadata": {
        "id": "KBW0DcPhauRV"
      },
      "source": [
        "## Parse Price"
      ]
    },
    {
      "cell_type": "code",
      "execution_count": 24,
      "metadata": {
        "colab": {
          "base_uri": "https://localhost:8080/"
        },
        "id": "hcl2laKoVCes",
        "outputId": "f4f3ec11-bb4b-496d-d7f3-bb65a0999e64"
      },
      "outputs": [
        {
          "name": "stdout",
          "output_type": "stream",
          "text": [
            "product Title =  NA\n",
            "None\n"
          ]
        }
      ],
      "source": [
        "page = requests.get(URL, headers=HEADER)\n",
        "suup = BeautifulSoup(page.content, 'html.parser')\n",
        "\n",
        "try:\n",
        "    title = suup.find_all(\"#productTitle\").text\n",
        "    title_value = title.string\n",
        "\n",
        "    title_string = title_value.strip().replace(',', '')          \n",
        "except AttributeError:\n",
        "\n",
        "    title_string = \"NA\"\n",
        "\n",
        "    print(\"product Title = \", title_string)\n",
        "\n",
        "print(title)\n",
        "#def check_price():  \n",
        "#  if( price < Price_Expecc):\n",
        "#    Send_Mail()"
      ]
    },
    {
      "cell_type": "markdown",
      "metadata": {
        "id": "mdObSyxXa72G"
      },
      "source": [
        "## Emailing"
      ]
    },
    {
      "cell_type": "code",
      "execution_count": 10,
      "metadata": {
        "id": "E2b1ZSZGVpqZ"
      },
      "outputs": [],
      "source": [
        "def Send_Mail():\n",
        "  server = smtplib.SMTP(\"smtp.gmail.com\", 587)\n",
        "  server.ehlo()     # servers identify the client\n",
        "  server.starttls() # start an SMTP connection in TLS\n",
        "  server.ehlo()     # re-send\n",
        "  ## Generate app password on Gmail (\"Email\", \"App Password\")\n",
        "  server.login('eminate894567@gmail.com', \"mnlcctzfhsmpeknb\")\n",
        "  ## EMAILS\n",
        "  FROM = \"eminate894567@gmail.com\"\n",
        "  TO = \"naresh2cu@gmail.com\"\n",
        "  ## BODY of mail\n",
        "  Subj = ('Because i made that flipkart price checker')\n",
        "  Txt = ('It had an app password')\n",
        "  \n",
        "  Body = f\"Subject: {Subj}\\n\\n{Txt}\"\n",
        "\n",
        "  ## Sending Mail\n",
        "  server.sendmail(FROM , TO , Body)\n",
        "  server.quit()\n",
        "  \n",
        "Send_Mail()"
      ]
    },
    {
      "cell_type": "markdown",
      "metadata": {
        "id": "AkIgJJCMfqbe"
      },
      "source": [
        "# Running every hour"
      ]
    },
    {
      "cell_type": "code",
      "execution_count": 207,
      "metadata": {
        "colab": {
          "base_uri": "https://localhost:8080/"
        },
        "id": "OQJSASRNfvO5",
        "outputId": "7f865bf7-b75b-4070-864e-38210e71ed8b"
      },
      "outputs": [
        {
          "name": "stdout",
          "output_type": "stream",
          "text": [
            "Email Sent\n",
            "Subject: Price of MANFORCE M is below 300\n",
            "\n",
            "Check the link: https://cutt.ly/HmOC9kN\n"
          ]
        }
      ],
      "source": [
        "while(True):\n",
        "    check_price()\n",
        "    time.sleep(60*60)"
      ]
    }
  ],
  "metadata": {
    "colab": {
      "name": "Flipkart_Price_Chk.ipynb",
      "provenance": []
    },
    "kernelspec": {
      "display_name": "Python 3",
      "name": "python3"
    },
    "language_info": {
      "codemirror_mode": {
        "name": "ipython",
        "version": 3
      },
      "file_extension": ".py",
      "mimetype": "text/x-python",
      "name": "python",
      "nbconvert_exporter": "python",
      "pygments_lexer": "ipython3",
      "version": "3.11.5"
    }
  },
  "nbformat": 4,
  "nbformat_minor": 2
}
