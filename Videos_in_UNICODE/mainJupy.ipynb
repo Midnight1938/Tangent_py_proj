{
 "cells": [
  {
   "cell_type": "markdown",
   "metadata": {},
   "source": [
    "# Turn Videos into ASCII Art Videos\n",
    "As Seen On: [Instructables by Tom Savoie](https://www.instructables.com/Turn-Videos-Into-ASCII-Art-Videos/)\n"
   ]
  },
  {
   "cell_type": "code",
   "execution_count": null,
   "metadata": {},
   "outputs": [],
   "source": [
    "from PIL import Image,ImageOps,ImageEnhance\n",
    "import cv2\n",
    "import os\n",
    "import imgkit"
   ]
  },
  {
   "cell_type": "markdown",
   "metadata": {},
   "source": [
    "## Seperate video frame-by-frame and save as jpg\n",
    "\n",
    "### Args:\n",
    "> path (string): path to video\n",
    "\n",
    "### Returns:\n",
    "> fps: the video speed\n",
    "> counter-1: total amount of images"
   ]
  },
  {
   "cell_type": "code",
   "execution_count": null,
   "metadata": {},
   "outputs": [],
   "source": [
    "def video_to_images(path):\n",
    "    os.mkdir('Images')\n",
    "    video = cv2.VideoCapture(path)\n",
    "    fps = video.get(cv2.CAP_PROP_FPS)\n",
    "    success, image = video.read()\n",
    "    counter = 1\n",
    "    while success:\n",
    "        cv2.imwrite(\"Images/Image{0}.jpg\".format(str(counter)), image)\n",
    "        success, image = video.read()\n",
    "        counter += 1\n",
    "    return fps, (counter-1)\n"
   ]
  },
  {
   "cell_type": "markdown",
   "metadata": {},
   "source": [
    "## Flatten the Image\n",
    "\n",
    "### Args:\n",
    "> image_path (sting): path to image\n",
    "\n",
    "### Returns:\n",
    "> initial_img: Flattened Image"
   ]
  },
  {
   "cell_type": "code",
   "execution_count": null,
   "metadata": {},
   "outputs": [],
   "source": [
    "def get_image(image_path):\n",
    "    initial_image = Image.open(image_path)\n",
    "    # save dimensions\n",
    "    width, height = initial_image.size\n",
    "    # resize with larger width to that its normal when ascii\n",
    "    initial_image = initial_image.resize((round(width*1.05), height))\n",
    "    return initial_image"
   ]
  },
  {
   "cell_type": "markdown",
   "metadata": {},
   "source": [
    "## Resize image to set ratio\n",
    "\n",
    "### Args:\n",
    "> image ([type]): working image\n",
    "> final_width (image Width, optional): Width we resize it by. Defaults to 200.\n",
    "\n",
    "### Returns:\n",
    "> image: Resized image\n"
   ]
  },
  {
   "cell_type": "code",
   "execution_count": null,
   "metadata": {},
   "outputs": [],
   "source": [
    "def pixelate_image(image, final_width=200):\n",
    "    width, height = image.size\n",
    "    # calc corresponding height\n",
    "    final_height = int((height*final_width)/width)\n",
    "    image = image.resize((final_width, final_height))\n",
    "    # Only if too dim\n",
    "    #image = ImageEnhance.Brightness(image)\n",
    "    #image = image.enhance(1.5)\n",
    "    return image\n"
   ]
  },
  {
   "cell_type": "markdown",
   "metadata": {},
   "source": [
    "## Greyscale image\n",
    "\n",
    "ImageOps.grayscale() is a PIL method to render an image in grey values"
   ]
  },
  {
   "cell_type": "code",
   "execution_count": null,
   "metadata": {},
   "outputs": [],
   "source": [
    "def grayscale_image(image):\n",
    "    image_bw = ImageOps.grayscale(image)\n",
    "    return image_bw"
   ]
  },
  {
   "cell_type": "markdown",
   "metadata": {},
   "source": [
    "## Convert BnW Image into Opacity value depending on char list\n",
    "\n",
    "### Args:\n",
    "> bw_image ([type]): the BnW image\n",
    "> ASCII_STR (list): the ASCII Values\n",
    "\n",
    "### Returns:\n",
    "> image list: Stock of chars for image\n",
    "\n",
    "#### ascii_conv:: \n",
    "With a cross-multiplication we get a value between 0 and the number of characters in the ASCII_STR list minus 1 (because it starts counting from 0)\n",
    "corresponding to the RGB value of it. In this example, a black will correspond to 0 and a white pixel to 8.\n",
    "\n",
    "#### append :: \n",
    "From this value between 0 and 8 (if the length of the string is 9) we will add in our ASCII characters list, the character corresponding to the opacity of the pixel. Here, black corresponds to \" \" and white to \"&\".\n"
   ]
  },
  {
   "cell_type": "code",
   "execution_count": null,
   "metadata": {},
   "outputs": [],
   "source": [
    "def ascii_conversion(bw_image, ascii_string=[\" \", \".\", \":\", \"-\", \"=\", \"+\", \"*\", \"#\", \"%\", \"@\", \"&\"]):\n",
    "    pixels = bw_image.getdata()\n",
    "    ascii_image_list = []\n",
    "    \n",
    "    for pixel in pixels:\n",
    "        ascii_converted = int((pixel*len(ascii_string))/256)\n",
    "        ascii_image_list.append(ascii_string[ascii_converted])\n",
    "    return ascii_image_list"
   ]
  },
  {
   "cell_type": "markdown",
   "metadata": {},
   "source": [
    "## Get Colour\n",
    "Take away RGB Values of each pixel to recolour later"
   ]
  },
  {
   "cell_type": "code",
   "execution_count": null,
   "metadata": {},
   "outputs": [],
   "source": [
    "def get_color(image):\n",
    "    pixels = image.getdata()  \n",
    "    # Creates a list with the RGB value for each pixel\n",
    "    return pixels"
   ]
  },
  {
   "cell_type": "markdown",
   "metadata": {},
   "source": [
    "## Store ASCII Version\n",
    "Create an HTML Document to store the ascii version\n",
    "### Requires\n",
    "> The list of the ASCII characters\n",
    "> The pixelated image (to retrieve its size)\n",
    "> The color list created in STEP 6\n",
    "> The position of the image in the video (to name it and to distinguish it from the others)"
   ]
  },
  {
   "cell_type": "code",
   "execution_count": null,
   "metadata": {},
   "outputs": [],
   "source": [
    "def print_ascii(ascii_list, image, color, image_pos):\n",
    "    file = open('HtmlImages/Html{0}.html'.format(str(image_pos)), \"w\")\n",
    "    file.write(\"\"\"                                      \n",
    "     <!DOCTYPE html>\n",
    "     <html>\n",
    "        <body style='background-color:black'>\n",
    "        <pre style='display: inline-block; border-width: 4px 6px; border-color: black; border-style: solid; background-color:black; font-size: 32px ;font-face: Montserrat;font-weight: bold;line-height:60%'>\"\"\")\n",
    "\n",
    "    width, height = image.size\n",
    "    counter = 0\n",
    "    for j in ascii_list:\n",
    "        color_hex = '%02x%02x%02x' % color[counter]\n",
    "        counter += 1\n",
    "        if (counter % width) != 0:\n",
    "            file.write(\n",
    "                \"<span style=\\\"color: #{0}\\\">{1}</span>\".format(color_hex, j))\n",
    "        else:\n",
    "            file.write(\"<br />\")\n",
    "    file.write(\"\"\"</pre></body>\n",
    "     </html>\"\"\")\n",
    "    file.close()"
   ]
  },
  {
   "cell_type": "markdown",
   "metadata": {},
   "source": [
    "## Main *Madgik*"
   ]
  },
  {
   "cell_type": "code",
   "execution_count": null,
   "metadata": {},
   "outputs": [],
   "source": [
    "def main(video_path):\n",
    "    #config = imgkit.config(wkhtmltoimage=r'wkhtmltoimage')\n",
    "    ascii_string = [\" \", \"|\", \"/\",\n",
    "                    \".\", \":\", \"-\", \n",
    "                    \"=\", \"+\", \"*\",\n",
    "                    \"#\", \"%\", \"@\", \"&\"]\n",
    "    fps, number_images = video_to_images(video_path)\n",
    "    os.mkdir('HtmlImages')\n",
    "    os.mkdir('TextImages')\n",
    "\n",
    "    for i in range(1, number_images+1):\n",
    "        image = get_image('Images/Image{0}.jpg'.format(str(i)))\n",
    "        right_size_image = pixelate_image(image)\n",
    "        bw_image = grayscale_image(right_size_image)\n",
    "        converted_list = ascii_conversion(bw_image, ascii_string)\n",
    "        color_list = get_color(right_size_image)\n",
    "        print_ascii(converted_list, right_size_image, color_list, i)\n",
    "        imgkit.from_file('HtmlImages/Html{0}.html'.format(str(i)),\n",
    "                         'TextImages/Image{0}.jpg'.format(str(i)))\n",
    "\n",
    "    res = Image.open('TextImages/Image1.jpg').size\n",
    "    video = cv2.VideoWriter('final_video.mp4', cv2.VideoWriter_fourcc(\n",
    "        'm', 'p', '4', 'v'), int(fps), res)\n",
    "\n",
    "    for j in range(1, number_images+1):\n",
    "        video.write(cv2.imread('TextImages/Image{0}.jpg'.format(str(j))))\n",
    "    video.release()\n"
   ]
  },
  {
   "cell_type": "markdown",
   "metadata": {},
   "source": [
    "## Supply Video"
   ]
  },
  {
   "cell_type": "code",
   "execution_count": 42,
   "metadata": {},
   "outputs": [],
   "source": [
    "if __name__ == \"__main__\":\n",
    "    main(\"Car.mp4\")"
   ]
  }
 ],
 "metadata": {
  "interpreter": {
   "hash": "eef664c6f3b8da53c9791f3a8de3ccc7680ada724315513981f75d756da90e86"
  },
  "kernelspec": {
   "display_name": "Python 3.9.7 64-bit ('AiMl': conda)",
   "language": "python",
   "name": "python3"
  },
  "language_info": {
   "codemirror_mode": {
    "name": "ipython",
    "version": 3
   },
   "file_extension": ".py",
   "mimetype": "text/x-python",
   "name": "python",
   "nbconvert_exporter": "python",
   "pygments_lexer": "ipython3",
   "version": "3.9.7"
  },
  "orig_nbformat": 4
 },
 "nbformat": 4,
 "nbformat_minor": 2
}
